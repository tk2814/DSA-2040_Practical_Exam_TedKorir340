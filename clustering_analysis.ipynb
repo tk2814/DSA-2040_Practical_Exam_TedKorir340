{
 "cells": [
  {
   "cell_type": "markdown",
   "id": "ab8223b4",
   "metadata": {},
   "source": [
    "# Clustering Analysis – Iris Dataset\n",
    "\n",
    "The K-Means clustering with **k = 3** achieved an **Adjusted Rand Index (ARI)** of **0.9039**,  \n",
    "indicating a strong alignment with the true species labels.  \n",
    "Misclassifications mainly occurred between species with overlapping feature ranges,  \n",
    "especially *Versicolor* and *Virginica*.  \n",
    "\n",
    "When tested with **k = 2**, the ARI dropped significantly, showing that important distinctions  \n",
    "between species were lost. At **k = 4**, the ARI did not improve meaningfully, and one cluster  \n",
    "split unnecessarily. The **elbow curve** supported **k = 3** as the optimal choice.  \n",
    "\n",
    "In real-world scenarios, clustering can be applied to tasks like **customer segmentation**,  \n",
    "where groups with similar purchasing patterns are identified without prior labels.  \n",
    "Since the Iris dataset is well-structured and balanced, results were high-quality.  \n",
    "If synthetic or noisy data were used instead, the ARI might drop due to  \n",
    "greater feature overlap between clusters.\n"
   ]
  }
 ],
 "metadata": {
  "kernelspec": {
   "display_name": "Python 3",
   "language": "python",
   "name": "python3"
  },
  "language_info": {
   "name": "python",
   "version": "3.13.4"
  }
 },
 "nbformat": 4,
 "nbformat_minor": 5
}
