{
 "cells": [
  {
   "cell_type": "markdown",
   "id": "23a26174",
   "metadata": {},
   "source": [
    "# Retail Data Warehouse  Analysis Report\n",
    "\n",
    "## Key Insights\n",
    "1. **Top-selling Country**: Netherlands with total sales of 821502.00.\n",
    "2. **Peak Sales Quarter**: Q1.0 with total sales of 468520.00.\n",
    "\n",
    "## Trends Observed\n",
    "- Sales are concentrated in a few top countries.\n",
    "- The peak quarter likely aligns with seasonal shopping patterns.\n",
    "- Since synthetic data is used, patterns may differ from real-world trends.\n",
    "\n",
    "## Decision-making Support\n",
    "The warehouse allows managers to:\n",
    "- Identify top markets.\n",
    "- Spot seasonal patterns.\n",
    "- Focus marketing on high-value regions and time periods.\n"
   ]
  }
 ],
 "metadata": {
  "language_info": {
   "name": "python"
  }
 },
 "nbformat": 4,
 "nbformat_minor": 5
}
