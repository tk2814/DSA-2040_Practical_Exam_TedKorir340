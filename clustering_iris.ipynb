{
 "cells": [
  {
   "cell_type": "markdown",
   "id": "a36983cf",
   "metadata": {},
   "source": [
    "# DSA2040 END SEMESTER EXAM"
   ]
  },
  {
   "cell_type": "markdown",
   "id": "a386a4e0",
   "metadata": {},
   "source": [
    "## SECTION 2: DATA MINING"
   ]
  },
  {
   "cell_type": "markdown",
   "id": "e4935bce",
   "metadata": {},
   "source": [
    "### TASK 2: CLUSTERING"
   ]
  },
  {
   "cell_type": "code",
   "execution_count": 8,
   "id": "1ae8e19e",
   "metadata": {},
   "outputs": [],
   "source": [
    "# Necessary imports\n",
    "\n",
    "import pandas as pd\n",
    "import matplotlib.pyplot as plt\n",
    "import seaborn as sns\n",
    "from sklearn.cluster import KMeans\n",
    "from sklearn.metrics import adjusted_rand_score\n",
    "from sklearn.datasets import load_iris\n",
    "from sklearn.preprocessing import MinMaxScaler, OneHotEncoder\n",
    "\n",
    "# 1. Load & Preprocess Data\n",
    "iris = load_iris(as_frame=True)\n",
    "df = iris.frame\n",
    "feature_cols = iris.feature_names\n",
    "\n",
    "#Scaling features\n",
    "scaler = MinMaxScaler()\n",
    "df[feature_cols] = scaler.fit_transform(df[feature_cols])\n",
    "true_labels = iris.target\n",
    "\n"
   ]
  },
  {
   "cell_type": "code",
   "execution_count": 9,
   "id": "bef45b82",
   "metadata": {},
   "outputs": [
    {
     "name": "stdout",
     "output_type": "stream",
     "text": [
      "ARI for k=3: 0.7163\n"
     ]
    }
   ],
   "source": [
    "# 2. K-Means Clustering (k=3)\n",
    "kmeans_3 = KMeans(n_clusters=3, random_state=42, n_init=10)\n",
    "df['cluster_k3'] = kmeans_3.fit_predict(df[feature_cols])\n",
    "\n",
    "# Evaluate using Adjusted Rand Index (ARI)\n",
    "ari_k3 = adjusted_rand_score(true_labels, df['cluster_k3'])\n",
    "print(f\"ARI for k=3: {ari_k3:.4f}\")\n",
    "\n"
   ]
  },
  {
   "cell_type": "code",
   "execution_count": 10,
   "id": "4a70d65f",
   "metadata": {},
   "outputs": [
    {
     "name": "stdout",
     "output_type": "stream",
     "text": [
      "\n",
      "ARI scores for k=2, k=3, k=4:\n",
      "k=2: ARI = 0.5681\n",
      "k=3: ARI = 0.7163\n",
      "k=4: ARI = 0.6231\n"
     ]
    }
   ],
   "source": [
    "# 3. Experiment with k=2 and k=4\n",
    "ari_scores = {}\n",
    "for k in [2, 3, 4]:\n",
    "    km = KMeans(n_clusters=k, random_state=42, n_init=10)\n",
    "    pred = km.fit_predict(df[feature_cols])\n",
    "    ari_scores[k] = adjusted_rand_score(true_labels, pred)\n",
    "\n",
    "print(\"\\nARI scores for k=2, k=3, k=4:\")\n",
    "for k, score in ari_scores.items():\n",
    "    print(f\"k={k}: ARI = {score:.4f}\")\n",
    "\n",
    "# Elbow method to justify optimal k\n",
    "inertia_values = []\n",
    "k_values = range(1, 7)\n",
    "for k in k_values:\n",
    "    km = KMeans(n_clusters=k, random_state=42, n_init=10)\n",
    "    km.fit(df[feature_cols])\n",
    "    inertia_values.append(km.inertia_)\n",
    "\n",
    "plt.figure(figsize=(6, 4))\n",
    "plt.plot(k_values, inertia_values, marker='o')\n",
    "plt.xlabel(\"Number of clusters (k)\")\n",
    "plt.ylabel(\"Inertia\")\n",
    "plt.title(\"Elbow Method for Optimal k\")\n",
    "plt.savefig(\"iris_elbow_curve.png\")\n",
    "plt.close()\n",
    "\n"
   ]
  },
  {
   "cell_type": "code",
   "execution_count": null,
   "id": "3099139a",
   "metadata": {},
   "outputs": [],
   "source": [
    "# 4. Visualizing clusters\n",
    "plt.figure(figsize=(6, 4))\n",
    "sns.scatterplot(\n",
    "    x=df[feature_cols[2]],  \n",
    "    y=df[feature_cols[3]],  \n",
    "    hue=df['cluster_k3'],\n",
    "    palette=\"Set1\",\n",
    "    s=60\n",
    ")\n",
    "plt.title(\"K-Means Clusters (k=3)\")\n",
    "plt.savefig(\"iris_clusters_k3.png\")\n",
    "plt.close()\n",
    "\n"
   ]
  }
 ],
 "metadata": {
  "kernelspec": {
   "display_name": "Python 3",
   "language": "python",
   "name": "python3"
  },
  "language_info": {
   "codemirror_mode": {
    "name": "ipython",
    "version": 3
   },
   "file_extension": ".py",
   "mimetype": "text/x-python",
   "name": "python",
   "nbconvert_exporter": "python",
   "pygments_lexer": "ipython3",
   "version": "3.13.4"
  }
 },
 "nbformat": 4,
 "nbformat_minor": 5
}
