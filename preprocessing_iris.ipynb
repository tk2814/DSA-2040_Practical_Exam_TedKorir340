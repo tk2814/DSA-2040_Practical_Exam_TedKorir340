{
 "cells": [
  {
   "cell_type": "markdown",
   "id": "979ecff0",
   "metadata": {},
   "source": [
    "# DSA2040 END SEMESTER EXAM"
   ]
  },
  {
   "cell_type": "markdown",
   "id": "04ce7c7f",
   "metadata": {},
   "source": [
    "## SECTION 2: DATA MINING"
   ]
  },
  {
   "cell_type": "markdown",
   "id": "8e28abf8",
   "metadata": {},
   "source": [
    "### Task 1: Data Preprocessing and Exploration"
   ]
  },
  {
   "cell_type": "code",
   "execution_count": 2,
   "id": "093e7085",
   "metadata": {},
   "outputs": [],
   "source": [
    "# Imports necessary\n",
    "\n",
    "import pandas as pd\n",
    "import numpy as np\n",
    "import seaborn as sns\n",
    "import matplotlib.pyplot as plt\n",
    "from sklearn.datasets import load_iris\n",
    "from sklearn.preprocessing import MinMaxScaler, OneHotEncoder\n",
    "from sklearn.model_selection import train_test_split\n",
    "\n"
   ]
  },
  {
   "cell_type": "code",
   "execution_count": 3,
   "id": "023b523c",
   "metadata": {},
   "outputs": [
    {
     "name": "stdout",
     "output_type": "stream",
     "text": [
      "First 5 rows of dataset:\n",
      "   sepal length (cm)  sepal width (cm)  petal length (cm)  petal width (cm)  \\\n",
      "0                5.1               3.5                1.4               0.2   \n",
      "1                4.9               3.0                1.4               0.2   \n",
      "2                4.7               3.2                1.3               0.2   \n",
      "3                4.6               3.1                1.5               0.2   \n",
      "4                5.0               3.6                1.4               0.2   \n",
      "\n",
      "   target  \n",
      "0       0  \n",
      "1       0  \n",
      "2       0  \n",
      "3       0  \n",
      "4       0  \n"
     ]
    }
   ],
   "source": [
    "# 1. Loading the dataset\n",
    "\n",
    "iris = load_iris(as_frame=True)\n",
    "df = iris.frame \n",
    "\n",
    "print(\"First 5 rows of dataset:\")\n",
    "print(df.head())\n",
    "\n"
   ]
  },
  {
   "cell_type": "code",
   "execution_count": 4,
   "id": "6b595d0d",
   "metadata": {},
   "outputs": [
    {
     "name": "stdout",
     "output_type": "stream",
     "text": [
      "\n",
      "Missing values check:\n",
      "sepal length (cm)    0\n",
      "sepal width (cm)     0\n",
      "petal length (cm)    0\n",
      "petal width (cm)     0\n",
      "target               0\n",
      "dtype: int64\n",
      "\n",
      "After preprocessing:\n",
      "   sepal length (cm)  sepal width (cm)  petal length (cm)  petal width (cm)  \\\n",
      "0           0.222222          0.625000           0.067797          0.041667   \n",
      "1           0.166667          0.416667           0.067797          0.041667   \n",
      "2           0.111111          0.500000           0.050847          0.041667   \n",
      "3           0.083333          0.458333           0.084746          0.041667   \n",
      "4           0.194444          0.666667           0.067797          0.041667   \n",
      "\n",
      "   target_0  target_1  target_2  \n",
      "0       1.0       0.0       0.0  \n",
      "1       1.0       0.0       0.0  \n",
      "2       1.0       0.0       0.0  \n",
      "3       1.0       0.0       0.0  \n",
      "4       1.0       0.0       0.0  \n"
     ]
    }
   ],
   "source": [
    "# 2. Preprocessing\n",
    "\n",
    "# Handling missing values\n",
    "print(\"\\nMissing values check:\")\n",
    "print(df.isnull().sum()) \n",
    "\n",
    "# Normalizing features using Min-Max scaling\n",
    "scaler = MinMaxScaler()\n",
    "feature_cols = iris.feature_names\n",
    "df[feature_cols] = scaler.fit_transform(df[feature_cols])\n",
    "\n",
    "# One-Hot Encoding\n",
    "encoder = OneHotEncoder(sparse_output=False)\n",
    "encoded_labels = encoder.fit_transform(df[['target']])\n",
    "encoded_labels_df = pd.DataFrame(encoded_labels, columns=encoder.get_feature_names_out(['target']))\n",
    "df = pd.concat([df.drop('target', axis=1), encoded_labels_df], axis=1)\n",
    "\n",
    "print(\"\\nAfter preprocessing:\")\n",
    "print(df.head())\n",
    "\n"
   ]
  },
  {
   "cell_type": "code",
   "execution_count": 5,
   "id": "276c3417",
   "metadata": {},
   "outputs": [
    {
     "name": "stdout",
     "output_type": "stream",
     "text": [
      "\n",
      "Summary statistics:\n",
      "       sepal length (cm)  sepal width (cm)  petal length (cm)  \\\n",
      "count         150.000000        150.000000         150.000000   \n",
      "mean            0.428704          0.440556           0.467458   \n",
      "std             0.230018          0.181611           0.299203   \n",
      "min             0.000000          0.000000           0.000000   \n",
      "25%             0.222222          0.333333           0.101695   \n",
      "50%             0.416667          0.416667           0.567797   \n",
      "75%             0.583333          0.541667           0.694915   \n",
      "max             1.000000          1.000000           1.000000   \n",
      "\n",
      "       petal width (cm)    target_0    target_1    target_2  \n",
      "count        150.000000  150.000000  150.000000  150.000000  \n",
      "mean           0.458056    0.333333    0.333333    0.333333  \n",
      "std            0.317599    0.472984    0.472984    0.472984  \n",
      "min            0.000000    0.000000    0.000000    0.000000  \n",
      "25%            0.083333    0.000000    0.000000    0.000000  \n",
      "50%            0.500000    0.000000    0.000000    0.000000  \n",
      "75%            0.708333    1.000000    1.000000    1.000000  \n",
      "max            1.000000    1.000000    1.000000    1.000000  \n"
     ]
    }
   ],
   "source": [
    "# 3. Exploration\n",
    "\n",
    "# Summary statistics\n",
    "print(\"\\nSummary statistics:\")\n",
    "print(df.describe())\n",
    "\n",
    "# Pairplot\n",
    "sns.pairplot(pd.DataFrame(scaler.inverse_transform(df[feature_cols]), columns=feature_cols))\n",
    "plt.savefig(\"iris_pairplot.png\")\n",
    "plt.close()\n",
    "\n",
    "# Correlation heatmap\n",
    "plt.figure(figsize=(8, 6))\n",
    "sns.heatmap(df.corr(), annot=True, cmap=\"coolwarm\")\n",
    "plt.title(\"Correlation Heatmap\")\n",
    "plt.savefig(\"iris_heatmap.png\")\n",
    "plt.close()\n",
    "\n",
    "#  Outlier detection using boxplots\n",
    "plt.figure(figsize=(10, 6))\n",
    "sns.boxplot(data=pd.DataFrame(scaler.inverse_transform(df[feature_cols]), columns=feature_cols))\n",
    "plt.title(\"Boxplot of Features\")\n",
    "plt.savefig(\"iris_boxplots.png\")\n",
    "plt.close()\n",
    "\n"
   ]
  },
  {
   "cell_type": "code",
   "execution_count": 6,
   "id": "9ee61acc",
   "metadata": {},
   "outputs": [
    {
     "name": "stdout",
     "output_type": "stream",
     "text": [
      "\n",
      "Train set size: 120 rows\n",
      "Test set size: 30 rows\n"
     ]
    }
   ],
   "source": [
    " #4. Split Function\n",
    "\n",
    "\n",
    "def split_train_test(dataframe, test_size=0.2, random_state=42):\n",
    "    \"\"\"\n",
    "    Splits data into train and test sets.\n",
    "    \"\"\"\n",
    "    X = dataframe[feature_cols]\n",
    "    y = dataframe[encoded_labels_df.columns] \n",
    "    return train_test_split(X, y, test_size=test_size, random_state=random_state)\n",
    "\n",
    "# Example\n",
    "X_train, X_test, y_train, y_test = split_train_test(df)\n",
    "print(f\"\\nTrain set size: {X_train.shape[0]} rows\")\n",
    "print(f\"Test set size: {X_test.shape[0]} rows\")\n"
   ]
  }
 ],
 "metadata": {
  "kernelspec": {
   "display_name": "Python 3",
   "language": "python",
   "name": "python3"
  },
  "language_info": {
   "codemirror_mode": {
    "name": "ipython",
    "version": 3
   },
   "file_extension": ".py",
   "mimetype": "text/x-python",
   "name": "python",
   "nbconvert_exporter": "python",
   "pygments_lexer": "ipython3",
   "version": "3.13.4"
  }
 },
 "nbformat": 4,
 "nbformat_minor": 5
}
